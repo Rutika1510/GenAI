{
 "cells": [
  {
   "cell_type": "markdown",
   "metadata": {
    "id": "mFQpEAC4K7Sx"
   },
   "source": [
    "### **Exercise: Sentiment Analysis and Key Insights Extraction from Ford Car Reviews**\n",
    "\n",
    "### **Problem Statement:**\n",
    "You have been provided with a dataset containing Ford car reviews. Your task is to use LangChain and the concepts you’ve learned to perform the following tasks:\n",
    "\n",
    "1. **Sentiment Analysis**: Analyze the sentiment of each review, categorize it as positive, neutral, or negative, and store the result.\n",
    "2. **Key Insights Extraction**: Extract key pieces of information from each review, such as the pros and cons mentioned, and the specific features the reviewer liked or disliked (e.g., vehicle performance, comfort, price).\n",
    "\n",
    "You will build a LangChain-based solution that leverages language models to automatically extract this information and provide a structured summary of the reviews.\n",
    "\n",
    "---\n",
    "### **Steps to Solve:**\n",
    "\n",
    "#### **Step 1: Load the Dataset**\n",
    "- The dataset file is named `ford_car_reviews.csv` and is sourced from Kaggle: [Edmunds Consumer Car Ratings and Reviews](https://www.kaggle.com/datasets/ankkur13/edmundsconsumer-car-ratings-and-reviews).\n",
    "- For this exercise, **limit the data to the first 25 records**. This can be achieved by using `df.head(25)` or `df.iloc[:25]` when loading the data into a DataFrame.\n",
    "\n",
    "#### **Step 2: Define the Sentiment Analysis Task**\n",
    "- Use LangChain to create a pipeline to classify the sentiment of each review.\n",
    "- Define prompts that can guide the model to evaluate the sentiment. For example:\n",
    "  - \"Given the following car review, classify the sentiment as positive, neutral, or negative.\"\n",
    "\n",
    "#### **Step 3: Key Insights Extraction**\n",
    "- Use LangChain to create a pipeline to extract pros, cons, and notable features from each review. Define prompts such as:\n",
    "  - \"What are the pros and cons of the vehicle described in the following review?\"\n",
    "  - \"What specific features of the vehicle does the reviewer like or dislike?\"\n",
    "\n",
    "#### **Step 4: Update the DataFrame with New Information**\n",
    "- Run the pipeline for each review and collect the sentiment and insights.\n",
    "- Once the analysis and extraction are complete, update the original DataFrame with additional columns to include:\n",
    "  - Sentiment (positive, neutral, negative)\n",
    "  - Pros\n",
    "  - Cons\n",
    "  - Liked_Features\n",
    "  - Disliked_Features\n",
    "\n",
    "---\n",
    "\n",
    "### **Example Output:**\n",
    "\n",
    "```json\n",
    "{\n",
    "  \"Review_Date\": \"03/07/13\",\n",
    "  \"Vehicle_Title\": \"2006 Ford Mustang Coupe\",\n",
    "  \"Review_Text\": \"With the expected arrival of our 6th child...\",\n",
    "  \"Rating\": 4.125,\n",
    "  \"Sentiment\": \"Positive\",\n",
    "  \"Pros\": \"Good driving experience, Large seating capacity, Great options\",\n",
    "  \"Cons\": \"None mentioned\",\n",
    "  \"Liked_Features\": [\"Driving experience\", \"Seating capacity\", \"Options available\"],\n",
    "  \"Disliked_Features\": []\n",
    "}\n",
    "```"
   ]
  },
  {
   "cell_type": "markdown",
   "metadata": {
    "id": "SYbq6I4FAYHr"
   },
   "source": [
    "CODE"
   ]
  },
  {
   "cell_type": "code",
   "execution_count": 1,
   "metadata": {
    "colab": {
     "base_uri": "https://localhost:8080/"
    },
    "id": "tswtvpB9L_fl",
    "outputId": "23010e27-2f6b-4a57-a3b1-f8bdd7a18ebf"
   },
   "outputs": [
    {
     "name": "stdout",
     "output_type": "stream",
     "text": [
      "Requirement already satisfied: langchain_groq in c:\\users\\rajes\\anaconda3\\lib\\site-packages (0.2.3)\n",
      "Requirement already satisfied: groq<1,>=0.4.1 in c:\\users\\rajes\\anaconda3\\lib\\site-packages (from langchain_groq) (0.15.0)\n",
      "Requirement already satisfied: langchain-core<0.4.0,>=0.3.29 in c:\\users\\rajes\\anaconda3\\lib\\site-packages (from langchain_groq) (0.3.29)\n",
      "Requirement already satisfied: anyio<5,>=3.5.0 in c:\\users\\rajes\\anaconda3\\lib\\site-packages (from groq<1,>=0.4.1->langchain_groq) (4.2.0)\n",
      "Requirement already satisfied: distro<2,>=1.7.0 in c:\\users\\rajes\\anaconda3\\lib\\site-packages (from groq<1,>=0.4.1->langchain_groq) (1.8.0)\n",
      "Requirement already satisfied: httpx<1,>=0.23.0 in c:\\users\\rajes\\anaconda3\\lib\\site-packages (from groq<1,>=0.4.1->langchain_groq) (0.27.0)\n",
      "Requirement already satisfied: pydantic<3,>=1.9.0 in c:\\users\\rajes\\anaconda3\\lib\\site-packages (from groq<1,>=0.4.1->langchain_groq) (2.10.5)\n",
      "Requirement already satisfied: sniffio in c:\\users\\rajes\\anaconda3\\lib\\site-packages (from groq<1,>=0.4.1->langchain_groq) (1.3.0)\n",
      "Requirement already satisfied: typing-extensions<5,>=4.10 in c:\\users\\rajes\\anaconda3\\lib\\site-packages (from groq<1,>=0.4.1->langchain_groq) (4.12.2)\n",
      "Requirement already satisfied: PyYAML>=5.3 in c:\\users\\rajes\\anaconda3\\lib\\site-packages (from langchain-core<0.4.0,>=0.3.29->langchain_groq) (6.0.1)\n",
      "Requirement already satisfied: jsonpatch<2.0,>=1.33 in c:\\users\\rajes\\anaconda3\\lib\\site-packages (from langchain-core<0.4.0,>=0.3.29->langchain_groq) (1.33)\n",
      "Requirement already satisfied: langsmith<0.3,>=0.1.125 in c:\\users\\rajes\\anaconda3\\lib\\site-packages (from langchain-core<0.4.0,>=0.3.29->langchain_groq) (0.2.10)\n",
      "Requirement already satisfied: packaging<25,>=23.2 in c:\\users\\rajes\\anaconda3\\lib\\site-packages (from langchain-core<0.4.0,>=0.3.29->langchain_groq) (24.2)\n",
      "Requirement already satisfied: tenacity!=8.4.0,<10.0.0,>=8.1.0 in c:\\users\\rajes\\anaconda3\\lib\\site-packages (from langchain-core<0.4.0,>=0.3.29->langchain_groq) (9.0.0)\n",
      "Requirement already satisfied: idna>=2.8 in c:\\users\\rajes\\anaconda3\\lib\\site-packages (from anyio<5,>=3.5.0->groq<1,>=0.4.1->langchain_groq) (3.4)\n",
      "Requirement already satisfied: certifi in c:\\users\\rajes\\anaconda3\\lib\\site-packages (from httpx<1,>=0.23.0->groq<1,>=0.4.1->langchain_groq) (2024.2.2)\n",
      "Requirement already satisfied: httpcore==1.* in c:\\users\\rajes\\anaconda3\\lib\\site-packages (from httpx<1,>=0.23.0->groq<1,>=0.4.1->langchain_groq) (1.0.5)\n",
      "Requirement already satisfied: h11<0.15,>=0.13 in c:\\users\\rajes\\anaconda3\\lib\\site-packages (from httpcore==1.*->httpx<1,>=0.23.0->groq<1,>=0.4.1->langchain_groq) (0.14.0)\n",
      "Requirement already satisfied: jsonpointer>=1.9 in c:\\users\\rajes\\anaconda3\\lib\\site-packages (from jsonpatch<2.0,>=1.33->langchain-core<0.4.0,>=0.3.29->langchain_groq) (2.1)\n",
      "Requirement already satisfied: orjson<4.0.0,>=3.9.14 in c:\\users\\rajes\\anaconda3\\lib\\site-packages (from langsmith<0.3,>=0.1.125->langchain-core<0.4.0,>=0.3.29->langchain_groq) (3.10.14)\n",
      "Requirement already satisfied: requests<3,>=2 in c:\\users\\rajes\\anaconda3\\lib\\site-packages (from langsmith<0.3,>=0.1.125->langchain-core<0.4.0,>=0.3.29->langchain_groq) (2.32.3)\n",
      "Requirement already satisfied: requests-toolbelt<2.0.0,>=1.0.0 in c:\\users\\rajes\\anaconda3\\lib\\site-packages (from langsmith<0.3,>=0.1.125->langchain-core<0.4.0,>=0.3.29->langchain_groq) (1.0.0)\n",
      "Requirement already satisfied: annotated-types>=0.6.0 in c:\\users\\rajes\\anaconda3\\lib\\site-packages (from pydantic<3,>=1.9.0->groq<1,>=0.4.1->langchain_groq) (0.7.0)\n",
      "Requirement already satisfied: pydantic-core==2.27.2 in c:\\users\\rajes\\anaconda3\\lib\\site-packages (from pydantic<3,>=1.9.0->groq<1,>=0.4.1->langchain_groq) (2.27.2)\n",
      "Requirement already satisfied: charset-normalizer<4,>=2 in c:\\users\\rajes\\anaconda3\\lib\\site-packages (from requests<3,>=2->langsmith<0.3,>=0.1.125->langchain-core<0.4.0,>=0.3.29->langchain_groq) (2.0.4)\n",
      "Requirement already satisfied: urllib3<3,>=1.21.1 in c:\\users\\rajes\\anaconda3\\lib\\site-packages (from requests<3,>=2->langsmith<0.3,>=0.1.125->langchain-core<0.4.0,>=0.3.29->langchain_groq) (2.0.7)\n"
     ]
    }
   ],
   "source": [
    "!pip install langchain_groq"
   ]
  },
  {
   "cell_type": "code",
   "execution_count": 2,
   "metadata": {
    "colab": {
     "base_uri": "https://localhost:8080/"
    },
    "id": "iozuQA3iMpE0",
    "outputId": "cff600ef-2ef9-4eab-bf6c-4cfcc2ab5138"
   },
   "outputs": [
    {
     "name": "stdout",
     "output_type": "stream",
     "text": [
      "Requirement already satisfied: python-dotenv in c:\\users\\rajes\\anaconda3\\lib\\site-packages (0.21.0)\n"
     ]
    }
   ],
   "source": [
    "!pip install python-dotenv"
   ]
  },
  {
   "cell_type": "code",
   "execution_count": 3,
   "metadata": {
    "id": "t8YUt6Rj-r76"
   },
   "outputs": [],
   "source": [
    "from langchain_core.messages import HumanMessage, SystemMessage"
   ]
  },
  {
   "cell_type": "code",
   "execution_count": 4,
   "metadata": {
    "id": "GGjMlV7z-zNx"
   },
   "outputs": [],
   "source": [
    "from langchain_groq import ChatGroq"
   ]
  },
  {
   "cell_type": "code",
   "execution_count": 5,
   "metadata": {
    "id": "t-fOH_Qf-8uA"
   },
   "outputs": [],
   "source": [
    "from langchain_core.output_parsers import JsonOutputParser"
   ]
  },
  {
   "cell_type": "code",
   "execution_count": 6,
   "metadata": {
    "id": "x0l_KdZxLCPt"
   },
   "outputs": [],
   "source": [
    "import pandas as pd"
   ]
  },
  {
   "cell_type": "code",
   "execution_count": 9,
   "metadata": {
    "id": "gtRqvov6LKyO"
   },
   "outputs": [],
   "source": [
    "#Loading the data\n",
    "\n",
    "data = pd.read_csv('ford_car_reviews.csv',nrows=25)"
   ]
  },
  {
   "cell_type": "code",
   "execution_count": 10,
   "metadata": {
    "colab": {
     "base_uri": "https://localhost:8080/",
     "height": 449
    },
    "id": "7YW8iseeLOQe",
    "outputId": "5e3ab4c5-2a43-44ab-a502-13c34c940ba2"
   },
   "outputs": [
    {
     "data": {
      "text/html": [
       "<div>\n",
       "<style scoped>\n",
       "    .dataframe tbody tr th:only-of-type {\n",
       "        vertical-align: middle;\n",
       "    }\n",
       "\n",
       "    .dataframe tbody tr th {\n",
       "        vertical-align: top;\n",
       "    }\n",
       "\n",
       "    .dataframe thead th {\n",
       "        text-align: right;\n",
       "    }\n",
       "</style>\n",
       "<table border=\"1\" class=\"dataframe\">\n",
       "  <thead>\n",
       "    <tr style=\"text-align: right;\">\n",
       "      <th></th>\n",
       "      <th>Unnamed: 0</th>\n",
       "      <th>Review_Date</th>\n",
       "      <th>Author_Name</th>\n",
       "      <th>Vehicle_Title</th>\n",
       "      <th>Review_Title</th>\n",
       "      <th>Review</th>\n",
       "      <th>Rating</th>\n",
       "    </tr>\n",
       "  </thead>\n",
       "  <tbody>\n",
       "    <tr>\n",
       "      <th>0</th>\n",
       "      <td>0</td>\n",
       "      <td>on 06/06/18 14:19 PM (PDT)</td>\n",
       "      <td>Vicki</td>\n",
       "      <td>2006 Ford Mustang Coupe GT Premium 2dr Coupe (...</td>\n",
       "      <td>2006 Mustang GT</td>\n",
       "      <td>Doesn’t disappoint</td>\n",
       "      <td>5.0</td>\n",
       "    </tr>\n",
       "    <tr>\n",
       "      <th>1</th>\n",
       "      <td>1</td>\n",
       "      <td>on 08/12/17 06:06 AM (PDT)</td>\n",
       "      <td>Tom</td>\n",
       "      <td>2006 Ford Mustang Coupe V6 Standard 2dr Coupe ...</td>\n",
       "      <td>DREAM CAR</td>\n",
       "      <td>I bought mine 4/17 with 98K. Have been wantin...</td>\n",
       "      <td>3.0</td>\n",
       "    </tr>\n",
       "    <tr>\n",
       "      <th>2</th>\n",
       "      <td>2</td>\n",
       "      <td>on 06/15/17 05:43 AM (PDT)</td>\n",
       "      <td>Ray</td>\n",
       "      <td>2006 Ford Mustang Coupe V6 Premium 2dr Coupe (...</td>\n",
       "      <td>Great Ride</td>\n",
       "      <td>There will always be a 05-09 mustang for sale...</td>\n",
       "      <td>5.0</td>\n",
       "    </tr>\n",
       "    <tr>\n",
       "      <th>3</th>\n",
       "      <td>3</td>\n",
       "      <td>on 05/18/17 17:33 PM (PDT)</td>\n",
       "      <td>Don Watson</td>\n",
       "      <td>2006 Ford Mustang Coupe V6 Deluxe 2dr Coupe (4...</td>\n",
       "      <td>I have wanted a Mustang for 40 years.</td>\n",
       "      <td>I bought my car from an auction I work at ( A...</td>\n",
       "      <td>5.0</td>\n",
       "    </tr>\n",
       "    <tr>\n",
       "      <th>4</th>\n",
       "      <td>4</td>\n",
       "      <td>on 01/03/16 18:03 PM (PST)</td>\n",
       "      <td>One owner</td>\n",
       "      <td>2006 Ford Mustang Coupe GT Premium 2dr Coupe (...</td>\n",
       "      <td>One owner</td>\n",
       "      <td>I bought this car spankin new and i still am ...</td>\n",
       "      <td>5.0</td>\n",
       "    </tr>\n",
       "  </tbody>\n",
       "</table>\n",
       "</div>"
      ],
      "text/plain": [
       "   Unnamed: 0                  Review_Date  Author_Name  \\\n",
       "0           0   on 06/06/18 14:19 PM (PDT)       Vicki    \n",
       "1           1   on 08/12/17 06:06 AM (PDT)         Tom    \n",
       "2           2   on 06/15/17 05:43 AM (PDT)         Ray    \n",
       "3           3   on 05/18/17 17:33 PM (PDT)  Don Watson    \n",
       "4           4   on 01/03/16 18:03 PM (PST)   One owner    \n",
       "\n",
       "                                       Vehicle_Title  \\\n",
       "0  2006 Ford Mustang Coupe GT Premium 2dr Coupe (...   \n",
       "1  2006 Ford Mustang Coupe V6 Standard 2dr Coupe ...   \n",
       "2  2006 Ford Mustang Coupe V6 Premium 2dr Coupe (...   \n",
       "3  2006 Ford Mustang Coupe V6 Deluxe 2dr Coupe (4...   \n",
       "4  2006 Ford Mustang Coupe GT Premium 2dr Coupe (...   \n",
       "\n",
       "                            Review_Title  \\\n",
       "0                        2006 Mustang GT   \n",
       "1                              DREAM CAR   \n",
       "2                             Great Ride   \n",
       "3  I have wanted a Mustang for 40 years.   \n",
       "4                              One owner   \n",
       "\n",
       "                                              Review  Rating  \n",
       "0                                 Doesn’t disappoint     5.0  \n",
       "1   I bought mine 4/17 with 98K. Have been wantin...     3.0  \n",
       "2   There will always be a 05-09 mustang for sale...     5.0  \n",
       "3   I bought my car from an auction I work at ( A...     5.0  \n",
       "4   I bought this car spankin new and i still am ...     5.0  "
      ]
     },
     "execution_count": 10,
     "metadata": {},
     "output_type": "execute_result"
    }
   ],
   "source": [
    "#Checking loaded data\n",
    "\n",
    "data.head()"
   ]
  },
  {
   "cell_type": "code",
   "execution_count": 11,
   "metadata": {
    "id": "hMJXv1f8LYhd"
   },
   "outputs": [],
   "source": [
    "#Dropping unwanted columns\n",
    "\n",
    "data.drop(\"Unnamed: 0\", axis = 1, inplace = True)"
   ]
  },
  {
   "cell_type": "code",
   "execution_count": 12,
   "metadata": {
    "colab": {
     "base_uri": "https://localhost:8080/",
     "height": 379
    },
    "id": "-A4YURcw-iHO",
    "outputId": "d9dfdc53-20ed-4f8c-9ed3-5543bff36471"
   },
   "outputs": [
    {
     "data": {
      "text/html": [
       "<div>\n",
       "<style scoped>\n",
       "    .dataframe tbody tr th:only-of-type {\n",
       "        vertical-align: middle;\n",
       "    }\n",
       "\n",
       "    .dataframe tbody tr th {\n",
       "        vertical-align: top;\n",
       "    }\n",
       "\n",
       "    .dataframe thead th {\n",
       "        text-align: right;\n",
       "    }\n",
       "</style>\n",
       "<table border=\"1\" class=\"dataframe\">\n",
       "  <thead>\n",
       "    <tr style=\"text-align: right;\">\n",
       "      <th></th>\n",
       "      <th>Review_Date</th>\n",
       "      <th>Author_Name</th>\n",
       "      <th>Vehicle_Title</th>\n",
       "      <th>Review_Title</th>\n",
       "      <th>Review</th>\n",
       "      <th>Rating</th>\n",
       "    </tr>\n",
       "  </thead>\n",
       "  <tbody>\n",
       "    <tr>\n",
       "      <th>0</th>\n",
       "      <td>on 06/06/18 14:19 PM (PDT)</td>\n",
       "      <td>Vicki</td>\n",
       "      <td>2006 Ford Mustang Coupe GT Premium 2dr Coupe (...</td>\n",
       "      <td>2006 Mustang GT</td>\n",
       "      <td>Doesn’t disappoint</td>\n",
       "      <td>5.0</td>\n",
       "    </tr>\n",
       "    <tr>\n",
       "      <th>1</th>\n",
       "      <td>on 08/12/17 06:06 AM (PDT)</td>\n",
       "      <td>Tom</td>\n",
       "      <td>2006 Ford Mustang Coupe V6 Standard 2dr Coupe ...</td>\n",
       "      <td>DREAM CAR</td>\n",
       "      <td>I bought mine 4/17 with 98K. Have been wantin...</td>\n",
       "      <td>3.0</td>\n",
       "    </tr>\n",
       "    <tr>\n",
       "      <th>2</th>\n",
       "      <td>on 06/15/17 05:43 AM (PDT)</td>\n",
       "      <td>Ray</td>\n",
       "      <td>2006 Ford Mustang Coupe V6 Premium 2dr Coupe (...</td>\n",
       "      <td>Great Ride</td>\n",
       "      <td>There will always be a 05-09 mustang for sale...</td>\n",
       "      <td>5.0</td>\n",
       "    </tr>\n",
       "    <tr>\n",
       "      <th>3</th>\n",
       "      <td>on 05/18/17 17:33 PM (PDT)</td>\n",
       "      <td>Don Watson</td>\n",
       "      <td>2006 Ford Mustang Coupe V6 Deluxe 2dr Coupe (4...</td>\n",
       "      <td>I have wanted a Mustang for 40 years.</td>\n",
       "      <td>I bought my car from an auction I work at ( A...</td>\n",
       "      <td>5.0</td>\n",
       "    </tr>\n",
       "    <tr>\n",
       "      <th>4</th>\n",
       "      <td>on 01/03/16 18:03 PM (PST)</td>\n",
       "      <td>One owner</td>\n",
       "      <td>2006 Ford Mustang Coupe GT Premium 2dr Coupe (...</td>\n",
       "      <td>One owner</td>\n",
       "      <td>I bought this car spankin new and i still am ...</td>\n",
       "      <td>5.0</td>\n",
       "    </tr>\n",
       "  </tbody>\n",
       "</table>\n",
       "</div>"
      ],
      "text/plain": [
       "                   Review_Date  Author_Name  \\\n",
       "0   on 06/06/18 14:19 PM (PDT)       Vicki    \n",
       "1   on 08/12/17 06:06 AM (PDT)         Tom    \n",
       "2   on 06/15/17 05:43 AM (PDT)         Ray    \n",
       "3   on 05/18/17 17:33 PM (PDT)  Don Watson    \n",
       "4   on 01/03/16 18:03 PM (PST)   One owner    \n",
       "\n",
       "                                       Vehicle_Title  \\\n",
       "0  2006 Ford Mustang Coupe GT Premium 2dr Coupe (...   \n",
       "1  2006 Ford Mustang Coupe V6 Standard 2dr Coupe ...   \n",
       "2  2006 Ford Mustang Coupe V6 Premium 2dr Coupe (...   \n",
       "3  2006 Ford Mustang Coupe V6 Deluxe 2dr Coupe (4...   \n",
       "4  2006 Ford Mustang Coupe GT Premium 2dr Coupe (...   \n",
       "\n",
       "                            Review_Title  \\\n",
       "0                        2006 Mustang GT   \n",
       "1                              DREAM CAR   \n",
       "2                             Great Ride   \n",
       "3  I have wanted a Mustang for 40 years.   \n",
       "4                              One owner   \n",
       "\n",
       "                                              Review  Rating  \n",
       "0                                 Doesn’t disappoint     5.0  \n",
       "1   I bought mine 4/17 with 98K. Have been wantin...     3.0  \n",
       "2   There will always be a 05-09 mustang for sale...     5.0  \n",
       "3   I bought my car from an auction I work at ( A...     5.0  \n",
       "4   I bought this car spankin new and i still am ...     5.0  "
      ]
     },
     "execution_count": 12,
     "metadata": {},
     "output_type": "execute_result"
    }
   ],
   "source": [
    "#Checking cleaned data frame\n",
    "\n",
    "data.head()"
   ]
  },
  {
   "cell_type": "code",
   "execution_count": 13,
   "metadata": {
    "id": "D7yQZrddMky2"
   },
   "outputs": [
    {
     "name": "stdin",
     "output_type": "stream",
     "text": [
      "GROQ API Key: ········\n"
     ]
    }
   ],
   "source": [
    "#Setting API KEY\n",
    "\n",
    "import os, json, re, getpass\n",
    "from dotenv import load_dotenv\n",
    "\n",
    "load_dotenv(\".env\", override=True)\n",
    "if \"GROQ_API_KEY\" not in os.environ:\n",
    "    os.environ[\"GROQ_API_KEY\"] = getpass.getpass(\"GROQ API Key:\")\n",
    "\n",
    "#key name : exercise1"
   ]
  },
  {
   "cell_type": "code",
   "execution_count": 14,
   "metadata": {
    "id": "JPo8P-T3MexM"
   },
   "outputs": [],
   "source": [
    "#Setting the model\n",
    "\n",
    "model_id = \"llama3-8b-8192\" #llama3-8b-8192, llama-3.1-8b-instant, llama3-groq-8b-8192-tool-use-preview, llama3-groq-70b-8192-tool-use-preview\n",
    "llm = ChatGroq(model_name=model_id, temperature=0, max_tokens=1024)"
   ]
  },
  {
   "cell_type": "code",
   "execution_count": 15,
   "metadata": {
    "id": "7muwk5E3Mzqm"
   },
   "outputs": [],
   "source": [
    "#Function for Retreiving Sentiment\n",
    "\n",
    "def get_sentiment(query):\n",
    "  messages = [\n",
    "      SystemMessage(content=\"Given the following car review, classify the sentiment as positive, neutral, or negative. Just mention positive/neutral/negative. Nothing extra.\"),\n",
    "      HumanMessage(content=query),\n",
    "  ]\n",
    "\n",
    "  ai_response = llm.invoke(messages)\n",
    "  return(ai_response.content)"
   ]
  },
  {
   "cell_type": "code",
   "execution_count": 16,
   "metadata": {
    "id": "serLA477OF1d"
   },
   "outputs": [],
   "source": [
    "#Function to retrieve Pros, Cons, Liked_Features, Disliked_Features\n",
    "\n",
    "def get_review_details(review):\n",
    "  try:\n",
    "    messages = [\n",
    "        SystemMessage(content=\"\"\"You are an expert in review analysis. You will receive a review from a user, and your job is to extract into comma separated text based on the following attributes:\n",
    "    1. Pros: what are the pros of the car?\n",
    "    2. Cons: what are the cons of the car?\n",
    "    3. Liked_Features: what all things customer liked of the car?\n",
    "    4. Disliked_Features: what all things customer liked of the car?\n",
    "\n",
    "    Return a structured JSON object with these four attributes.\"\"\"),\n",
    "        HumanMessage(content=review)\n",
    "    ]\n",
    "    response = llm.invoke(messages)\n",
    "\n",
    "    json_response = JsonOutputParser().invoke(response)\n",
    "\n",
    "\n",
    "    return json_response\n",
    "\n",
    "  except Exception as e:\n",
    "\n",
    "    return {'pros': '', 'cons': '', 'likes': '', 'dislikes': ''}\n"
   ]
  },
  {
   "cell_type": "code",
   "execution_count": 17,
   "metadata": {
    "colab": {
     "base_uri": "https://localhost:8080/"
    },
    "id": "ePAAI00rVFZA",
    "outputId": "eec01bb5-e65b-46be-a295-f518c14ecdc0"
   },
   "outputs": [
    {
     "name": "stdout",
     "output_type": "stream",
     "text": [
      "Test Sentiment:  Positive\n",
      "Test Review Details:  {'Pros': \"doesn't disappoint\", 'Cons': '', 'Liked_Features': \"doesn't disappoint\", 'Disliked_Features': ''}\n"
     ]
    }
   ],
   "source": [
    "#Temp checking single input\n",
    "print(\"Test Sentiment: \",get_sentiment(\"Doesn't disappoint\"))\n",
    "print(\"Test Review Details: \",get_review_details(\"Doesn't disappoint\"))"
   ]
  },
  {
   "cell_type": "code",
   "execution_count": 18,
   "metadata": {
    "id": "CSMpEDXONYgS"
   },
   "outputs": [],
   "source": [
    "#Collecting Sentiment and storing as new column\n",
    "\n",
    "data['Sentiment'] = data['Review'].apply(get_sentiment)"
   ]
  },
  {
   "cell_type": "code",
   "execution_count": 19,
   "metadata": {
    "id": "ph06ibgHRaXK"
   },
   "outputs": [],
   "source": [
    "#Collecting Sentiment and storing as new column\n",
    "\n",
    "data[['Pros', 'Cons', 'Liked_Features', 'Disliked_Features']] = pd.json_normalize(data['Review'].apply(get_review_details))\n"
   ]
  },
  {
   "cell_type": "code",
   "execution_count": 20,
   "metadata": {
    "colab": {
     "base_uri": "https://localhost:8080/",
     "height": 590
    },
    "id": "_IgHW8mAOpoW",
    "outputId": "e50d9ce9-c8c3-4831-e261-06c89f17c856"
   },
   "outputs": [
    {
     "data": {
      "text/html": [
       "<div>\n",
       "<style scoped>\n",
       "    .dataframe tbody tr th:only-of-type {\n",
       "        vertical-align: middle;\n",
       "    }\n",
       "\n",
       "    .dataframe tbody tr th {\n",
       "        vertical-align: top;\n",
       "    }\n",
       "\n",
       "    .dataframe thead th {\n",
       "        text-align: right;\n",
       "    }\n",
       "</style>\n",
       "<table border=\"1\" class=\"dataframe\">\n",
       "  <thead>\n",
       "    <tr style=\"text-align: right;\">\n",
       "      <th></th>\n",
       "      <th>Review_Date</th>\n",
       "      <th>Author_Name</th>\n",
       "      <th>Vehicle_Title</th>\n",
       "      <th>Review_Title</th>\n",
       "      <th>Review</th>\n",
       "      <th>Rating</th>\n",
       "      <th>Sentiment</th>\n",
       "      <th>Pros</th>\n",
       "      <th>Cons</th>\n",
       "      <th>Liked_Features</th>\n",
       "      <th>Disliked_Features</th>\n",
       "    </tr>\n",
       "  </thead>\n",
       "  <tbody>\n",
       "    <tr>\n",
       "      <th>0</th>\n",
       "      <td>on 06/06/18 14:19 PM (PDT)</td>\n",
       "      <td>Vicki</td>\n",
       "      <td>2006 Ford Mustang Coupe GT Premium 2dr Coupe (...</td>\n",
       "      <td>2006 Mustang GT</td>\n",
       "      <td>Doesn’t disappoint</td>\n",
       "      <td>5.0</td>\n",
       "      <td>Neutral</td>\n",
       "      <td>Doesn't disappoint</td>\n",
       "      <td></td>\n",
       "      <td>Doesn't disappoint</td>\n",
       "      <td></td>\n",
       "    </tr>\n",
       "    <tr>\n",
       "      <th>1</th>\n",
       "      <td>on 08/12/17 06:06 AM (PDT)</td>\n",
       "      <td>Tom</td>\n",
       "      <td>2006 Ford Mustang Coupe V6 Standard 2dr Coupe ...</td>\n",
       "      <td>DREAM CAR</td>\n",
       "      <td>I bought mine 4/17 with 98K. Have been wantin...</td>\n",
       "      <td>3.0</td>\n",
       "      <td>neutral</td>\n",
       "      <td>Sounds good, Great mileage, Good power</td>\n",
       "      <td>Orneriest transmission I've ever used, Harsh r...</td>\n",
       "      <td>Smokin' hot looking car, Fun to drive</td>\n",
       "      <td>Transmission is difficult to master, Ride is h...</td>\n",
       "    </tr>\n",
       "    <tr>\n",
       "      <th>2</th>\n",
       "      <td>on 06/15/17 05:43 AM (PDT)</td>\n",
       "      <td>Ray</td>\n",
       "      <td>2006 Ford Mustang Coupe V6 Premium 2dr Coupe (...</td>\n",
       "      <td>Great Ride</td>\n",
       "      <td>There will always be a 05-09 mustang for sale...</td>\n",
       "      <td>5.0</td>\n",
       "      <td>Positive</td>\n",
       "      <td>great investment, reasonable price</td>\n",
       "      <td></td>\n",
       "      <td></td>\n",
       "      <td></td>\n",
       "    </tr>\n",
       "    <tr>\n",
       "      <th>3</th>\n",
       "      <td>on 05/18/17 17:33 PM (PDT)</td>\n",
       "      <td>Don Watson</td>\n",
       "      <td>2006 Ford Mustang Coupe V6 Deluxe 2dr Coupe (4...</td>\n",
       "      <td>I have wanted a Mustang for 40 years.</td>\n",
       "      <td>I bought my car from an auction I work at ( A...</td>\n",
       "      <td>5.0</td>\n",
       "      <td>Positive</td>\n",
       "      <td>It is a v6 with an air aid cold air injector, ...</td>\n",
       "      <td></td>\n",
       "      <td>v6, air aid cold air injector, throttle body s...</td>\n",
       "      <td></td>\n",
       "    </tr>\n",
       "    <tr>\n",
       "      <th>4</th>\n",
       "      <td>on 01/03/16 18:03 PM (PST)</td>\n",
       "      <td>One owner</td>\n",
       "      <td>2006 Ford Mustang Coupe GT Premium 2dr Coupe (...</td>\n",
       "      <td>One owner</td>\n",
       "      <td>I bought this car spankin new and i still am ...</td>\n",
       "      <td>5.0</td>\n",
       "      <td>Positive</td>\n",
       "      <td>hugs the road, does whatever you ask at a mome...</td>\n",
       "      <td>alternator needed to be fixed, tires and brake...</td>\n",
       "      <td>handling, responsiveness, reliability</td>\n",
       "      <td>alternator issue, tire and brake maintenance</td>\n",
       "    </tr>\n",
       "  </tbody>\n",
       "</table>\n",
       "</div>"
      ],
      "text/plain": [
       "                   Review_Date  Author_Name  \\\n",
       "0   on 06/06/18 14:19 PM (PDT)       Vicki    \n",
       "1   on 08/12/17 06:06 AM (PDT)         Tom    \n",
       "2   on 06/15/17 05:43 AM (PDT)         Ray    \n",
       "3   on 05/18/17 17:33 PM (PDT)  Don Watson    \n",
       "4   on 01/03/16 18:03 PM (PST)   One owner    \n",
       "\n",
       "                                       Vehicle_Title  \\\n",
       "0  2006 Ford Mustang Coupe GT Premium 2dr Coupe (...   \n",
       "1  2006 Ford Mustang Coupe V6 Standard 2dr Coupe ...   \n",
       "2  2006 Ford Mustang Coupe V6 Premium 2dr Coupe (...   \n",
       "3  2006 Ford Mustang Coupe V6 Deluxe 2dr Coupe (4...   \n",
       "4  2006 Ford Mustang Coupe GT Premium 2dr Coupe (...   \n",
       "\n",
       "                            Review_Title  \\\n",
       "0                        2006 Mustang GT   \n",
       "1                              DREAM CAR   \n",
       "2                             Great Ride   \n",
       "3  I have wanted a Mustang for 40 years.   \n",
       "4                              One owner   \n",
       "\n",
       "                                              Review  Rating Sentiment  \\\n",
       "0                                 Doesn’t disappoint     5.0   Neutral   \n",
       "1   I bought mine 4/17 with 98K. Have been wantin...     3.0   neutral   \n",
       "2   There will always be a 05-09 mustang for sale...     5.0  Positive   \n",
       "3   I bought my car from an auction I work at ( A...     5.0  Positive   \n",
       "4   I bought this car spankin new and i still am ...     5.0  Positive   \n",
       "\n",
       "                                                Pros  \\\n",
       "0                                 Doesn't disappoint   \n",
       "1             Sounds good, Great mileage, Good power   \n",
       "2                 great investment, reasonable price   \n",
       "3  It is a v6 with an air aid cold air injector, ...   \n",
       "4  hugs the road, does whatever you ask at a mome...   \n",
       "\n",
       "                                                Cons  \\\n",
       "0                                                      \n",
       "1  Orneriest transmission I've ever used, Harsh r...   \n",
       "2                                                      \n",
       "3                                                      \n",
       "4  alternator needed to be fixed, tires and brake...   \n",
       "\n",
       "                                      Liked_Features  \\\n",
       "0                                 Doesn't disappoint   \n",
       "1              Smokin' hot looking car, Fun to drive   \n",
       "2                                                      \n",
       "3  v6, air aid cold air injector, throttle body s...   \n",
       "4              handling, responsiveness, reliability   \n",
       "\n",
       "                                   Disliked_Features  \n",
       "0                                                     \n",
       "1  Transmission is difficult to master, Ride is h...  \n",
       "2                                                     \n",
       "3                                                     \n",
       "4       alternator issue, tire and brake maintenance  "
      ]
     },
     "execution_count": 20,
     "metadata": {},
     "output_type": "execute_result"
    }
   ],
   "source": [
    "#Checking Final DataFrame\n",
    "data.head()"
   ]
  },
  {
   "cell_type": "code",
   "execution_count": 21,
   "metadata": {
    "colab": {
     "base_uri": "https://localhost:8080/"
    },
    "id": "QU194fLGOwBg",
    "outputId": "68a2653d-f35e-413d-bbd8-1bb9ddaad44e"
   },
   "outputs": [
    {
     "name": "stdout",
     "output_type": "stream",
     "text": [
      "{\n",
      "  \"Review_Date\": \" on 06/06/18 14:19 PM (PDT)\",\n",
      "  \"Author_Name\": \"Vicki \",\n",
      "  \"Vehicle_Title\": \"2006 Ford Mustang Coupe GT Premium 2dr Coupe (4.6L 8cyl 5M)\",\n",
      "  \"Review_Title\": \"2006 Mustang GT\",\n",
      "  \"Review\": \" Doesn\\u2019t disappoint\",\n",
      "  \"Rating\": 5.0,\n",
      "  \"Sentiment\": \"Neutral\",\n",
      "  \"Pros\": \"Doesn't disappoint\",\n",
      "  \"Cons\": \"\",\n",
      "  \"Liked_Features\": \"Doesn't disappoint\",\n",
      "  \"Disliked_Features\": \"\"\n",
      "}\n"
     ]
    }
   ],
   "source": [
    "#Converting DataFrame to JSON-like format\n",
    "result = data.to_dict(orient=\"records\")  # Convert rows to list of dictionaries\n",
    "formatted_json = json.dumps(result[0], indent=2)  # Convert the first record to JSON with indentation\n",
    "\n",
    "#Printing Final Output in the formatted JSON\n",
    "print(formatted_json)"
   ]
  },
  {
   "cell_type": "code",
   "execution_count": null,
   "metadata": {
    "id": "4oZh5FIpBQ3J"
   },
   "outputs": [],
   "source": []
  }
 ],
 "metadata": {
  "colab": {
   "provenance": []
  },
  "kernelspec": {
   "display_name": "Python 3 (ipykernel)",
   "language": "python",
   "name": "python3"
  },
  "language_info": {
   "codemirror_mode": {
    "name": "ipython",
    "version": 3
   },
   "file_extension": ".py",
   "mimetype": "text/x-python",
   "name": "python",
   "nbconvert_exporter": "python",
   "pygments_lexer": "ipython3",
   "version": "3.11.7"
  }
 },
 "nbformat": 4,
 "nbformat_minor": 4
}
